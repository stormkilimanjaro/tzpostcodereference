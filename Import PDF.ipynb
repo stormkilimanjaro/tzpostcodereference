{
 "cells": [
  {
   "cell_type": "code",
   "execution_count": 1,
   "metadata": {},
   "outputs": [],
   "source": [
    "import tabula"
   ]
  },
  {
   "cell_type": "code",
   "execution_count": 7,
   "metadata": {},
   "outputs": [
    {
     "name": "stdout",
     "output_type": "stream",
     "text": [
      "33\n"
     ]
    }
   ],
   "source": [
    "df = tabula.read_pdf(\"Postcode.pdf\")\n",
    "\n",
    "print (len(df))"
   ]
  },
  {
   "cell_type": "code",
   "execution_count": 9,
   "metadata": {},
   "outputs": [],
   "source": [
    "tabula.convert_into(\"Postcode.pdf\", \"Postcode.csv\", output_format=\"csv\", pages='all')"
   ]
  },
  {
   "cell_type": "code",
   "execution_count": 8,
   "metadata": {},
   "outputs": [
    {
     "name": "stdout",
     "output_type": "stream",
     "text": [
      "1786\n",
      "REGION\n",
      "POSTCODE\n",
      "WARD\n",
      "POSTCODE\n",
      "OLD POSTCODE\n",
      "MTAA/VILLAGE\n",
      "KITONGOJI\n",
      "ILALA CBD11KIVUKONI\n",
      "11101Kivukoni\n",
      "Sea ViewUPANGA MASHARIKI  \n",
      "11102Kitonga\n",
      "Kibasila\n",
      "UPANGA MAGHARIBI\n",
      "11103Fire\n",
      "Charambe\n",
      "Mfaume\n",
      "KISUTU\n",
      "11104KisutuMtendeni\n",
      "MCHAFUKOGE\n",
      "11105Kitumbini\n",
      "Mchafukoge\n",
      "KARIAKOO\n",
      "11106Kariakoo Magharibi\n",
      "Kariakoo Kaskazini\n",
      "Kariakoo Mashariki\n",
      "GEREZANI\n",
      "11107Gerezani Mashariki\n",
      "Gerezani Magharibi\n",
      "JANGWANI\n",
      "11108Ukombozi\n",
      "Mnazi Mmoja\n",
      "Mtambani \"A\"\n",
      "Mtambani \"B\"\n",
      "MCHIKICHINI\n",
      "11109Mission Quarter\n",
      "Ilala Kota\n",
      "Msimbazi Bondeni\n",
      "ILALA12ILALA12101Mafuriko\n",
      "Kasulu\n",
      "Karume\n",
      "Shariff Shamba\n",
      "AmanaBUGURUNI\n",
      "12102Malapa\n",
      "Madenge\n",
      "Kisiwani\n",
      "Mvinjeni\n",
      "\n"
     ]
    }
   ],
   "source": [
    "import PyPDF2\n",
    "# pdf file object\n",
    "# you can find find the pdf file with complete code in below\n",
    "pdfFileObj = open('Postcode.pdf', 'rb')\n",
    "# pdf reader object\n",
    "pdfReader = PyPDF2.PdfFileReader(pdfFileObj)\n",
    "# number of pages in pdf\n",
    "print(pdfReader.numPages)\n",
    "# a page object\n",
    "pageObj = pdfReader.getPage(0)\n",
    "# extracting text from page.\n",
    "# this will print the text you can also save that into String\n",
    "print(pageObj.extractText())"
   ]
  },
  {
   "cell_type": "code",
   "execution_count": null,
   "metadata": {},
   "outputs": [],
   "source": []
  }
 ],
 "metadata": {
  "kernelspec": {
   "display_name": "Python 3",
   "language": "python",
   "name": "python3"
  },
  "language_info": {
   "codemirror_mode": {
    "name": "ipython",
    "version": 3
   },
   "file_extension": ".py",
   "mimetype": "text/x-python",
   "name": "python",
   "nbconvert_exporter": "python",
   "pygments_lexer": "ipython3",
   "version": "3.7.3"
  }
 },
 "nbformat": 4,
 "nbformat_minor": 2
}
